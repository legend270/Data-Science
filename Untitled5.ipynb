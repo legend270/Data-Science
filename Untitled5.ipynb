{
 "cells": [
  {
   "cell_type": "code",
   "execution_count": 11,
   "id": "f1d98054-2285-460b-a1af-cffe3ae58586",
   "metadata": {},
   "outputs": [
    {
     "name": "stdout",
     "output_type": "stream",
     "text": [
      "Dataset shape: (23524, 13)\n",
      "First few rows:\n",
      "  country  year    uniqueid bank_account location_type cellphone_access  \\\n",
      "0   Kenya  2018  uniqueid_1          Yes         Rural              Yes   \n",
      "1   Kenya  2018  uniqueid_2           No         Rural               No   \n",
      "2   Kenya  2018  uniqueid_3          Yes         Urban              Yes   \n",
      "3   Kenya  2018  uniqueid_4           No         Rural              Yes   \n",
      "4   Kenya  2018  uniqueid_5           No         Urban               No   \n",
      "\n",
      "   household_size  age_of_respondent gender_of_respondent  \\\n",
      "0               3                 24               Female   \n",
      "1               5                 70               Female   \n",
      "2               5                 26                 Male   \n",
      "3               5                 34               Female   \n",
      "4               8                 26                 Male   \n",
      "\n",
      "  relationship_with_head           marital_status  \\\n",
      "0                 Spouse  Married/Living together   \n",
      "1      Head of Household                  Widowed   \n",
      "2         Other relative     Single/Never Married   \n",
      "3      Head of Household  Married/Living together   \n",
      "4                  Child     Single/Never Married   \n",
      "\n",
      "                   education_level                   job_type  \n",
      "0              Secondary education              Self employed  \n",
      "1              No formal education       Government Dependent  \n",
      "2  Vocational/Specialised training              Self employed  \n",
      "3                Primary education  Formally employed Private  \n",
      "4                Primary education        Informally employed  \n"
     ]
    }
   ],
   "source": [
    "# Load and explore the dataset\n",
    "import pandas as pd\n",
    "import numpy as np\n",
    "from sklearn.model_selection import train_test_split\n",
    "from sklearn.preprocessing import LabelEncoder, StandardScaler\n",
    "from sklearn.ensemble import RandomForestClassifier\n",
    "from sklearn.linear_model import LogisticRegression\n",
    "from sklearn.metrics import classification_report, confusion_matrix, accuracy_score,mean_absolute_error\n",
    "import matplotlib.pyplot as plt\n",
    "import seaborn as sns\n",
    "\n",
    "# Load the data\n",
    "df = pd.read_csv('Train.csv')\n",
    "print(\"Dataset shape:\", df.shape)\n",
    "print(\"\\\n",
    "First few rows:\")\n",
    "print(df.head())"
   ]
  },
  {
   "cell_type": "code",
   "execution_count": 2,
   "id": "f266721f-b9ad-4ad1-ad3b-7832fc1b213c",
   "metadata": {},
   "outputs": [
    {
     "name": "stdout",
     "output_type": "stream",
     "text": [
      "Dataset info:\n",
      "<class 'pandas.core.frame.DataFrame'>\n",
      "RangeIndex: 23524 entries, 0 to 23523\n",
      "Data columns (total 13 columns):\n",
      " #   Column                  Non-Null Count  Dtype \n",
      "---  ------                  --------------  ----- \n",
      " 0   country                 23524 non-null  object\n",
      " 1   year                    23524 non-null  int64 \n",
      " 2   uniqueid                23524 non-null  object\n",
      " 3   bank_account            23524 non-null  object\n",
      " 4   location_type           23524 non-null  object\n",
      " 5   cellphone_access        23524 non-null  object\n",
      " 6   household_size          23524 non-null  int64 \n",
      " 7   age_of_respondent       23524 non-null  int64 \n",
      " 8   gender_of_respondent    23524 non-null  object\n",
      " 9   relationship_with_head  23524 non-null  object\n",
      " 10  marital_status          23524 non-null  object\n",
      " 11  education_level         23524 non-null  object\n",
      " 12  job_type                23524 non-null  object\n",
      "dtypes: int64(3), object(10)\n",
      "memory usage: 2.3+ MB\n",
      "None\n",
      "Target variable distribution:\n",
      "bank_account\n",
      "No     20212\n",
      "Yes     3312\n",
      "Name: count, dtype: int64\n",
      "Missing values:\n",
      "country                   0\n",
      "year                      0\n",
      "uniqueid                  0\n",
      "bank_account              0\n",
      "location_type             0\n",
      "cellphone_access          0\n",
      "household_size            0\n",
      "age_of_respondent         0\n",
      "gender_of_respondent      0\n",
      "relationship_with_head    0\n",
      "marital_status            0\n",
      "education_level           0\n",
      "job_type                  0\n",
      "dtype: int64\n"
     ]
    }
   ],
   "source": [
    "# Check data info and target variable distribution\n",
    "print(\"Dataset info:\")\n",
    "print(df.info())\n",
    "print(\"\\\n",
    "Target variable distribution:\")\n",
    "print(df['bank_account'].value_counts())\n",
    "print(\"\\\n",
    "Missing values:\")\n",
    "print(df.isnull().sum())"
   ]
  },
  {
   "cell_type": "code",
   "execution_count": 3,
   "id": "b6d13e6b-3300-40f3-8ce4-f4b2f8943144",
   "metadata": {},
   "outputs": [
    {
     "name": "stdout",
     "output_type": "stream",
     "text": [
      "Features after encoding:\n",
      "   location_type  cellphone_access  household_size  age_of_respondent  \\\n",
      "0              0                 1               3                 24   \n",
      "1              0                 0               5                 70   \n",
      "2              1                 1               5                 26   \n",
      "3              0                 1               5                 34   \n",
      "4              1                 0               8                 26   \n",
      "\n",
      "   gender_of_respondent  relationship_with_head  marital_status  \\\n",
      "0                     0                       5               2   \n",
      "1                     0                       1               4   \n",
      "2                     1                       3               3   \n",
      "3                     0                       1               2   \n",
      "4                     1                       0               3   \n",
      "\n",
      "   education_level  job_type  \n",
      "0                3         9  \n",
      "1                0         4  \n",
      "2                5         9  \n",
      "3                2         3  \n",
      "4                2         5  \n"
     ]
    }
   ],
   "source": [
    "# Prepare the data for modeling\n",
    "# Drop non-predictive columns\n",
    "X = df.drop(['bank_account', 'uniqueid', 'country', 'year'], axis=1)\n",
    "y = df['bank_account']\n",
    "\n",
    "# Encode categorical variables\n",
    "le_dict = {}\n",
    "categorical_cols = ['location_type', 'cellphone_access', 'gender_of_respondent', \n",
    "                   'relationship_with_head', 'marital_status', 'education_level', 'job_type']\n",
    "\n",
    "X_encoded = X.copy()\n",
    "for col in categorical_cols:\n",
    "    le = LabelEncoder()\n",
    "    X_encoded[col] = le.fit_transform(X[col])\n",
    "    le_dict[col] = le\n",
    "\n",
    "# Encode target variable\n",
    "y_encoded = LabelEncoder().fit_transform(y)\n",
    "\n",
    "print(\"Features after encoding:\")\n",
    "print(X_encoded.head())"
   ]
  },
  {
   "cell_type": "code",
   "execution_count": 9,
   "id": "7bc2f2e7-3b88-4271-8466-e118b43dede6",
   "metadata": {},
   "outputs": [
    {
     "name": "stdout",
     "output_type": "stream",
     "text": [
      "Random Forest Accuracy: 0.8643995749202975\n",
      "Classification Report:\n",
      "              precision    recall  f1-score   support\n",
      "\n",
      "          No       0.90      0.94      0.92      4043\n",
      "         Yes       0.52      0.39      0.45       662\n",
      "\n",
      "    accuracy                           0.86      4705\n",
      "   macro avg       0.71      0.67      0.68      4705\n",
      "weighted avg       0.85      0.86      0.86      4705\n",
      "\n"
     ]
    }
   ],
   "source": [
    "# Split the data\n",
    "X_train, X_test, y_train, y_test = train_test_split(X_encoded, y_encoded, test_size=0.2, random_state=42, stratify=y_encoded)\n",
    "\n",
    "# Scale the features\n",
    "scaler = StandardScaler()\n",
    "X_train_scaled = scaler.fit_transform(X_train)\n",
    "X_test_scaled = scaler.transform(X_test)\n",
    "\n",
    "# Train Random Forest model\n",
    "rf_model = RandomForestClassifier(n_estimators=100, random_state=42)\n",
    "rf_model.fit(X_train_scaled, y_train)\n",
    "\n",
    "# Make predictions\n",
    "y_pred_rf = rf_model.predict(X_test_scaled)\n",
    " \n",
    "# Evaluate the model\n",
    "accuracy = accuracy_score(y_test, y_pred_rf)\n",
    "print(\"Random Forest Accuracy:\", accuracy)\n",
    "print(\"\\\n",
    "Classification Report:\")\n",
    "print(classification_report(y_test, y_pred_rf, target_names=['No', 'Yes']))\n"
   ]
  },
  {
   "cell_type": "code",
   "execution_count": 12,
   "id": "adccb3aa-b7a0-4f75-82a4-ca9d124b06ad",
   "metadata": {},
   "outputs": [
    {
     "name": "stdout",
     "output_type": "stream",
     "text": [
      "0.13560042507970244\n"
     ]
    }
   ],
   "source": [
    "mae = mean_absolute_error(y_test, y_pred_rf) \n",
    "print(mae)"
   ]
  },
  {
   "cell_type": "code",
   "execution_count": null,
   "id": "70f47a3d-2842-4c90-b5b7-3a67d1e82483",
   "metadata": {},
   "outputs": [],
   "source": []
  }
 ],
 "metadata": {
  "kernelspec": {
   "display_name": "Python [conda env:base] *",
   "language": "python",
   "name": "conda-base-py"
  },
  "language_info": {
   "codemirror_mode": {
    "name": "ipython",
    "version": 3
   },
   "file_extension": ".py",
   "mimetype": "text/x-python",
   "name": "python",
   "nbconvert_exporter": "python",
   "pygments_lexer": "ipython3",
   "version": "3.11.7"
  }
 },
 "nbformat": 4,
 "nbformat_minor": 5
}
